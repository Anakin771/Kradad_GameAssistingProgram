{
  "nbformat": 4,
  "nbformat_minor": 0,
  "metadata": {
    "colab": {
      "name": "GKNE-MAP-Online-v1.0.0.ipynb",
      "provenance": [],
      "collapsed_sections": [],
      "include_colab_link": true
    },
    "kernelspec": {
      "name": "python3",
      "display_name": "Python 3"
    },
    "language_info": {
      "name": "python"
    }
  },
  "cells": [
    {
      "cell_type": "markdown",
      "metadata": {
        "id": "view-in-github",
        "colab_type": "text"
      },
      "source": [
        "<a href=\"https://colab.research.google.com/github/Anakin771/Kradad_MainAssistingProgram/blob/master/GKNE_MAP_Online_v1_0_0.ipynb\" target=\"_parent\"><img src=\"https://colab.research.google.com/assets/colab-badge.svg\" alt=\"Open In Colab\"/></a>"
      ]
    },
    {
      "cell_type": "markdown",
      "metadata": {
        "id": "JGXKIeJoioUz"
      },
      "source": [
        "# Welcome\n",
        "\n",
        "**This is the online edition of the GKNE - Main Assisting Program version 1.0.0!**\n",
        "\n",
        "This Python-Notebook includes all the neccessary functions from the desktop edition of the program and is derived from the *Console Edition*.\n",
        "\n",
        "You start by running the code cell labeled **\"Start the Program!\"** first, which will import important files into the running session, then, \n",
        "you can use the indexes on your right to search for the command you wish to run!\n",
        "\n",
        "**Take note:** This is considered a *Lite* Edition, and very little to no error protection, so please be careful when giving inputs.\n",
        "\n",
        "Thank you for using GKNE-MAP Online Edition!"
      ]
    },
    {
      "cell_type": "code",
      "metadata": {
        "cellView": "form",
        "id": "Eu75LJtqTrUw",
        "colab": {
          "base_uri": "https://localhost:8080/",
          "height": 634
        },
        "outputId": "986a8fa6-5097-49eb-e8ca-44e0061e5ce5"
      },
      "source": [
        "#@title Start the Program! (Run this first)\n",
        " \n",
        "import bossStat, itemStat, playerStat, rounder"
      ],
      "execution_count": null,
      "outputs": [
        {
          "output_type": "error",
          "ename": "ModuleNotFoundError",
          "evalue": "ignored",
          "traceback": [
            "\u001b[0;31m---------------------------------------------------------------------------\u001b[0m",
            "\u001b[0;31mModuleNotFoundError\u001b[0m                       Traceback (most recent call last)",
            "\u001b[0;32m<ipython-input-1-2c808bc29e29>\u001b[0m in \u001b[0;36m<module>\u001b[0;34m()\u001b[0m\n\u001b[1;32m      1\u001b[0m \u001b[0;31m#@title Start the Program! (Run this first)\u001b[0m\u001b[0;34m\u001b[0m\u001b[0;34m\u001b[0m\u001b[0;34m\u001b[0m\u001b[0m\n\u001b[1;32m      2\u001b[0m \u001b[0;34m\u001b[0m\u001b[0m\n\u001b[0;32m----> 3\u001b[0;31m \u001b[0;32mimport\u001b[0m \u001b[0mbossStat\u001b[0m\u001b[0;34m,\u001b[0m \u001b[0mitemStat\u001b[0m\u001b[0;34m,\u001b[0m \u001b[0mplayerStat\u001b[0m\u001b[0;34m,\u001b[0m \u001b[0mrounder\u001b[0m\u001b[0;34m\u001b[0m\u001b[0;34m\u001b[0m\u001b[0m\n\u001b[0m",
            "\u001b[0;31mModuleNotFoundError\u001b[0m: No module named 'bossStat'",
            "",
            "\u001b[0;31m---------------------------------------------------------------------------\u001b[0;32m\nNOTE: If your import is failing due to a missing package, you can\nmanually install dependencies using either !pip or !apt.\n\nTo view examples of installing some common dependencies, click the\n\"Open Examples\" button below.\n\u001b[0;31m---------------------------------------------------------------------------\u001b[0m\n"
          ]
        }
      ]
    },
    {
      "cell_type": "markdown",
      "metadata": {
        "id": "WeFbujWaW_41"
      },
      "source": [
        "# Player: New Character\n",
        "\n",
        "The code cell below will generate a new character stats. It doen't take any initial arguments, but you must make decisions in the console printed below:"
      ]
    },
    {
      "cell_type": "code",
      "metadata": {
        "cellView": "form",
        "id": "V0NtAfdvXth0"
      },
      "source": [
        "#@title New Character\n",
        "\n",
        "new_char = playerStat.random_starting_char()"
      ],
      "execution_count": null,
      "outputs": []
    },
    {
      "cell_type": "markdown",
      "metadata": {
        "id": "2G7I7Tr1Yqt-"
      },
      "source": [
        "# Player: Calculate Level\n",
        "\n",
        "The code cell below calculate the character's Level progress. It takes the following arguments:\n",
        "\n",
        "* Your Character's Current Level\n",
        "* Current Remainder XP\n",
        "* XP Gained\n",
        "* No. of Fallen Ally\n",
        "* Item Acception Decision\n",
        "\n",
        "Please not that since this is only the lite version for online platform, error protection is absent, and it can occur if you input invalid value(s)"
      ]
    },
    {
      "cell_type": "code",
      "metadata": {
        "cellView": "form",
        "id": "CHzUaiWNZnkV"
      },
      "source": [
        "#@title Calculate Level\n",
        "\n",
        "current_lv =  1 #@param {type:\"number\"}\n",
        "remainder_xp = 200 #@param {type:\"number\"}\n",
        "xp_gained = 12500 #@param {type:\"number\"}\n",
        "fallen_ally = 1 #@param {type:\"number\"}\n",
        "item_decision = 'Declined' #@param [\"Accepted\", \"Declined\", \"No Item\"]\n",
        "\n",
        "if item_decision in [\"Accepted\"]:\n",
        "  item_acc = True\n",
        "else:\n",
        "  item_acc = False\n",
        "\n",
        "result = playerStat.calculate_level_up(current_lv, remainder_xp, xp_gained, fallen_ally, item_acc)"
      ],
      "execution_count": null,
      "outputs": []
    },
    {
      "cell_type": "markdown",
      "metadata": {
        "id": "ajrS_ywGcj55"
      },
      "source": [
        "# Boss: Generate Boss Fight\n",
        "\n",
        "The code cell below generates a boss fight of any type (Single or Multi-Boss). It takes the following arguments:\n",
        "\n",
        "* Party's Average Level\n",
        "* Party Size\n",
        "* Number of Bosses\n",
        "* Difficulty\n",
        "\n",
        "As stated before, there are no error protection, so please keep your inputs as sensible as possible to avoid errors"
      ]
    },
    {
      "cell_type": "code",
      "metadata": {
        "cellView": "form",
        "id": "yM3oRt47dItO"
      },
      "source": [
        "#@title Generate Boss Fight\n",
        "\n",
        "party_avg_lv = 50 #@param {type:\"number\"}\n",
        "party_size = 5 #@param {type:\"number\"}\n",
        "boss_amount = 1 #@param {type:\"number\"}\n",
        "difficulty = \"Normal\" #@param [\"Noob\", \"Easy\", \"Normal\", \"Hard\", \"Hardcore\"]\n",
        "\n",
        "difficulty.lower()\n",
        "\n",
        "if boss_amount > 1:\n",
        "  boss = bossStat.random_boss_stat_multi(party_avg_lv, party_size, boss_amount, difficulty)\n",
        "else:\n",
        "  boss = bossStat.random_boss_stat(party_avg_lv, party_size, difficulty)"
      ],
      "execution_count": null,
      "outputs": []
    },
    {
      "cell_type": "markdown",
      "metadata": {
        "id": "FaUYMImhfRA_"
      },
      "source": [
        "# Item: Generate Dropped Item\n",
        "The code cell below generates a dropped item from boss fight. It takes the following arguments:\n",
        "\n",
        "* Boss LV\n",
        "* Item Type\n",
        "\n",
        "As stated before, there are no error protection, so please keep your inputs as sensible as possible to avoid errors"
      ]
    },
    {
      "cell_type": "code",
      "metadata": {
        "cellView": "form",
        "id": "TO73fi41firQ"
      },
      "source": [
        "#@title Generate Dropped Item\n",
        "\n",
        "boss_lv = 15 #@param {type:\"number\"}\n",
        "item_type = \"Weapon\" #@param [\"Weapon\", \"Armor\", \"Accessories\"]\n",
        "\n",
        "item_type_dict = {\n",
        "    \"Weapon\": \"wpn\",\n",
        "    \"Armor\": \"amr\",\n",
        "    \"Accessories\": \"acc\"\n",
        "}\n",
        "\n",
        "translated_type = item_type_dict.get(item_type, None) \n",
        "\n",
        "item = itemStat.random_item_stat(boss_lv, translated_type)"
      ],
      "execution_count": null,
      "outputs": []
    },
    {
      "cell_type": "markdown",
      "metadata": {
        "id": "3aJ4G3_bg8a-"
      },
      "source": [
        "# Item: Craft Item\n",
        "\n",
        "The code cell below generates a crafted item. It takes the following arguments:\n",
        "\n",
        "* Player's LV\n",
        "* 3 Crafting Material Type (Weapon/Armor/Accessories)\n",
        "\n",
        "There are internal error protection this time, but please keep your inputs as sensible as possible to avoid errors."
      ]
    },
    {
      "cell_type": "code",
      "metadata": {
        "colab": {
          "base_uri": "https://localhost:8080/"
        },
        "cellView": "form",
        "id": "z2g2BKGohgou",
        "outputId": "a8b81906-cf9a-40c0-a691-f39f10bb3928"
      },
      "source": [
        "#@title Craft Item\n",
        "\n",
        "player_lv = 15 #@param {type:\"number\"}\n",
        "material_1 = \"\" #@param [\"\", \"Weapon\", \"Armor\", \"Accessories\"]\n",
        "material_2 = \"\" #@param [\"\", \"Weapon\", \"Armor\", \"Accessories\"]\n",
        "material_3 = \"\" #@param [\"\", \"Weapon\", \"Armor\", \"Accessories\"]\n",
        "\n",
        "item_type_dict = {\n",
        "    \"Weapon\": \"wpn\",\n",
        "    \"Armor\": \"amr\",\n",
        "    \"Accessories\": \"acc\"\n",
        "}\n",
        "\n",
        "translated_mat1 = item_type_dict.get(material_1, None)\n",
        "translated_mat2 = item_type_dict.get(material_2, None)\n",
        "translated_mat3 = item_type_dict.get(material_3, None)\n",
        "\n",
        "item = itemStat.craft_item(translated_mat1, translated_mat2, translated_mat3, player_lv)"
      ],
      "execution_count": null,
      "outputs": [
        {
          "output_type": "stream",
          "text": [
            "---------------------------------\n",
            " ITEM STAT POINTS\n",
            "(GREAT QUALITY WEAPON - LV. 15)\n",
            " HP: +50 pts.\n",
            " P. ATK: +0 pts.\n",
            " M. ATK: +800 pts.\n",
            " P. DEF: +150 pts.\n",
            " M. DEF: +100 pts.\n",
            "---------------------------------\n"
          ],
          "name": "stdout"
        }
      ]
    }
  ]
}